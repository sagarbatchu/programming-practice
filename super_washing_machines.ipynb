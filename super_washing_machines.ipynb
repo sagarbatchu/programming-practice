{
 "cells": [
  {
   "cell_type": "markdown",
   "metadata": {},
   "source": [
    "You have n super washing machines on a line. Initially, each washing machine has some dresses or is empty.\n",
    "\n",
    "For each move, you could choose any m (1 ≤ m ≤ n) washing machines, and pass one dress of each washing machine to one of its adjacent washing machines at the same time .\n",
    "Given an integer array representing the number of dresses in each washing machine from left to right on the line, you should find the minimum number of moves to make all the washing machines have the same number of dresses. If it is not possible to do it, return -1."
   ]
  },
  {
   "cell_type": "code",
   "execution_count": 3,
   "metadata": {
    "collapsed": true
   },
   "outputs": [],
   "source": [
    "def minMoves(clothes_array):\n",
    "    \n",
    "    total = sum(clothes_array)\n",
    "    number_machines = len(clothes_array)\n",
    "    if total%number_machines != 0:\n",
    "        return -1\n",
    "    target = total/number_machines\n",
    "    max_moves = 0\n",
    "    move_count = 0\n",
    "    for clothes_load in clothes_array:\n",
    "        move_count += clothes_load - target\n",
    "        max_moves = max(max(max_moves,abs(move_count)),clothes_load - target )\n",
    "    return max_moves\n",
    "    "
   ]
  },
  {
   "cell_type": "code",
   "execution_count": 5,
   "metadata": {
    "collapsed": false
   },
   "outputs": [
    {
     "data": {
      "text/plain": [
       "6.0"
      ]
     },
     "execution_count": 5,
     "metadata": {},
     "output_type": "execute_result"
    }
   ],
   "source": [
    "minMoves([0,4,10,2])"
   ]
  },
  {
   "cell_type": "code",
   "execution_count": null,
   "metadata": {
    "collapsed": true
   },
   "outputs": [],
   "source": []
  }
 ],
 "metadata": {
  "kernelspec": {
   "display_name": "Python 3",
   "language": "python",
   "name": "python3"
  },
  "language_info": {
   "codemirror_mode": {
    "name": "ipython",
    "version": 3
   },
   "file_extension": ".py",
   "mimetype": "text/x-python",
   "name": "python",
   "nbconvert_exporter": "python",
   "pygments_lexer": "ipython3",
   "version": "3.6.0"
  }
 },
 "nbformat": 4,
 "nbformat_minor": 2
}
