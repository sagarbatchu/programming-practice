{
 "cells": [
  {
   "cell_type": "markdown",
   "metadata": {},
   "source": [
    "Return all configurations of queens on a nxn chess board such that they do not attack each other."
   ]
  },
  {
   "cell_type": "code",
   "execution_count": null,
   "metadata": {
    "collapsed": true
   },
   "outputs": [],
   "source": [
    "def queens(self, n):\n",
    "    \n",
    "    result = [];\n",
    "    \n",
    "    def queenSearch(queens, diff, sum):\n",
    "        p= len(queens)\n",
    "        if len(queens) == n:\n",
    "            result.append(queens)\n",
    "            return\n",
    "        for q in range(n):\n",
    "            if q not in queens and p-q not in diff and p+q not in sum: \n",
    "                queenSearch(queens+[q], diff+[p-q], sum+[p+q])\n",
    "            \n",
    "        queenSearch([],[],[])\n",
    "        \n",
    "        return [[\".\"*i + \"Q\" + \".\"*(n-i-1) for i in sol] for sol in result];"
   ]
  }
 ],
 "metadata": {
  "kernelspec": {
   "display_name": "Python 3",
   "language": "python",
   "name": "python3"
  },
  "language_info": {
   "codemirror_mode": {
    "name": "ipython",
    "version": 3
   },
   "file_extension": ".py",
   "mimetype": "text/x-python",
   "name": "python",
   "nbconvert_exporter": "python",
   "pygments_lexer": "ipython3",
   "version": "3.6.0"
  }
 },
 "nbformat": 4,
 "nbformat_minor": 2
}
