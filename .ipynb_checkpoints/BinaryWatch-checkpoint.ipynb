{
 "cells": [
  {
   "cell_type": "markdown",
   "metadata": {},
   "source": [
    "1) A binary watch has 4 LEDs on the top which represent the hours (0-11), and the 6 LEDs on the bottom represent the minutes (0-59).\n",
    "\n",
    "Each LED represents a zero or one, with the least significant bit on the right.\n",
    "\n",
    "Given a non-negative integer n which represents the number of LEDs that are currently on, return all possible times the watch could represent.\n",
    "\n",
    "Example:\n",
    "Input: n = 1\n",
    "Return: [\"1:00\", \"2:00\", \"4:00\", \"8:00\", \"0:01\", \"0:02\", \"0:04\", \"0:08\", \"0:16\", \"0:32\"]\n",
    "\n",
    "Note:\n",
    "The order of output does not matter.\n",
    "The hour must not contain a leading zero, for example \"01:00\" is not valid, it should be \"1:00\".\n",
    "The minute must be consist of two digits and may contain a leading zero, for example \"10:2\" is not valid, it should be \"10:02\".\n"
   ]
  },
  {
   "cell_type": "code",
   "execution_count": 20,
   "metadata": {
    "collapsed": false
   },
   "outputs": [],
   "source": [
    "noLeds = 1;"
   ]
  },
  {
   "cell_type": "markdown",
   "metadata": {},
   "source": [
    "Iterative Method:\n",
    "\n",
    "'n' corresponds to the number of ON lights on the watch. In other words it is the number of bits that are set as 1. We could iterate through all the possibilities and figure out which have the number of bits set as '1' equal to n. "
   ]
  },
  {
   "cell_type": "code",
   "execution_count": 27,
   "metadata": {
    "collapsed": true
   },
   "outputs": [],
   "source": [
    "def countbits(n):\n",
    "    count = 0;\n",
    "    while n>0:\n",
    "        if (n & 1 == 1):\n",
    "            count += 1;\n",
    "        n >>= 1\n",
    "    return count\n"
   ]
  },
  {
   "cell_type": "code",
   "execution_count": 40,
   "metadata": {
    "collapsed": false
   },
   "outputs": [],
   "source": [
    "def times(n):\n",
    "    times_list = [];\n",
    "    for h in range(0,12):\n",
    "        for m in range(0,60):\n",
    "            if(countbits(m + (h<<6)) == n):\n",
    "                time_string = \"%d:%02d\" % (h,m)\n",
    "                times_list.append(time_string)\n",
    "    return times_list"
   ]
  },
  {
   "cell_type": "code",
   "execution_count": 41,
   "metadata": {
    "collapsed": false
   },
   "outputs": [
    {
     "data": {
      "text/plain": [
       "['0:01',\n",
       " '0:02',\n",
       " '0:04',\n",
       " '0:08',\n",
       " '0:16',\n",
       " '0:32',\n",
       " '1:00',\n",
       " '2:00',\n",
       " '4:00',\n",
       " '8:00']"
      ]
     },
     "execution_count": 41,
     "metadata": {},
     "output_type": "execute_result"
    }
   ],
   "source": [
    "times(noLeds)"
   ]
  },
  {
   "cell_type": "markdown",
   "metadata": {},
   "source": [
    "Time Complexity: O(1), always the h*m regardless of n. "
   ]
  }
 ],
 "metadata": {
  "kernelspec": {
   "display_name": "Python 3",
   "language": "python",
   "name": "python3"
  },
  "language_info": {
   "codemirror_mode": {
    "name": "ipython",
    "version": 3
   },
   "file_extension": ".py",
   "mimetype": "text/x-python",
   "name": "python",
   "nbconvert_exporter": "python",
   "pygments_lexer": "ipython3",
   "version": "3.6.0"
  }
 },
 "nbformat": 4,
 "nbformat_minor": 2
}
