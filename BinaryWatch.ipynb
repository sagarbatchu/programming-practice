{
 "cells": [
  {
   "cell_type": "markdown",
   "metadata": {},
   "source": [
    "1) A binary watch has 4 LEDs on the top which represent the hours (0-11), and the 6 LEDs on the bottom represent the minutes (0-59).\n",
    "\n",
    "Each LED represents a zero or one, with the least significant bit on the right.\n",
    "\n",
    "Given a non-negative integer n which represents the number of LEDs that are currently on, return all possible times the watch could represent.\n",
    "\n",
    "Example:\n",
    "Input: n = 1\n",
    "Return: [\"1:00\", \"2:00\", \"4:00\", \"8:00\", \"0:01\", \"0:02\", \"0:04\", \"0:08\", \"0:16\", \"0:32\"]\n",
    "\n",
    "Note:\n",
    "The order of output does not matter.\n",
    "The hour must not contain a leading zero, for example \"01:00\" is not valid, it should be \"1:00\".\n",
    "The minute must be consist of two digits and may contain a leading zero, for example \"10:2\" is not valid, it should be \"10:02\".\n"
   ]
  },
  {
   "cell_type": "code",
   "execution_count": 42,
   "metadata": {
    "collapsed": false
   },
   "outputs": [],
   "source": [
    "noLeds = 3;"
   ]
  },
  {
   "cell_type": "markdown",
   "metadata": {},
   "source": [
    "Iterative Method:\n",
    "\n",
    "'n' corresponds to the number of ON lights on the watch. In other words it is the number of bits that are set as 1. We could iterate through all the possibilities and figure out which have the number of bits set as '1' equal to n. "
   ]
  },
  {
   "cell_type": "code",
   "execution_count": 43,
   "metadata": {
    "collapsed": true
   },
   "outputs": [],
   "source": [
    "def countbits(n):\n",
    "    count = 0;\n",
    "    while n>0:\n",
    "        if (n & 1 == 1):\n",
    "            count += 1;\n",
    "        n >>= 1\n",
    "    return count\n"
   ]
  },
  {
   "cell_type": "code",
   "execution_count": 44,
   "metadata": {
    "collapsed": false
   },
   "outputs": [],
   "source": [
    "def times(n):\n",
    "    times_list = [];\n",
    "    for h in range(0,12):\n",
    "        for m in range(0,60):\n",
    "            if(countbits(m + (h<<6)) == n):\n",
    "                time_string = \"%d:%02d\" % (h,m)\n",
    "                times_list.append(time_string)\n",
    "    return times_list"
   ]
  },
  {
   "cell_type": "code",
   "execution_count": 45,
   "metadata": {
    "collapsed": false
   },
   "outputs": [
    {
     "data": {
      "text/plain": [
       "['0:07',\n",
       " '0:11',\n",
       " '0:13',\n",
       " '0:14',\n",
       " '0:19',\n",
       " '0:21',\n",
       " '0:22',\n",
       " '0:25',\n",
       " '0:26',\n",
       " '0:28',\n",
       " '0:35',\n",
       " '0:37',\n",
       " '0:38',\n",
       " '0:41',\n",
       " '0:42',\n",
       " '0:44',\n",
       " '0:49',\n",
       " '0:50',\n",
       " '0:52',\n",
       " '0:56',\n",
       " '1:03',\n",
       " '1:05',\n",
       " '1:06',\n",
       " '1:09',\n",
       " '1:10',\n",
       " '1:12',\n",
       " '1:17',\n",
       " '1:18',\n",
       " '1:20',\n",
       " '1:24',\n",
       " '1:33',\n",
       " '1:34',\n",
       " '1:36',\n",
       " '1:40',\n",
       " '1:48',\n",
       " '2:03',\n",
       " '2:05',\n",
       " '2:06',\n",
       " '2:09',\n",
       " '2:10',\n",
       " '2:12',\n",
       " '2:17',\n",
       " '2:18',\n",
       " '2:20',\n",
       " '2:24',\n",
       " '2:33',\n",
       " '2:34',\n",
       " '2:36',\n",
       " '2:40',\n",
       " '2:48',\n",
       " '3:01',\n",
       " '3:02',\n",
       " '3:04',\n",
       " '3:08',\n",
       " '3:16',\n",
       " '3:32',\n",
       " '4:03',\n",
       " '4:05',\n",
       " '4:06',\n",
       " '4:09',\n",
       " '4:10',\n",
       " '4:12',\n",
       " '4:17',\n",
       " '4:18',\n",
       " '4:20',\n",
       " '4:24',\n",
       " '4:33',\n",
       " '4:34',\n",
       " '4:36',\n",
       " '4:40',\n",
       " '4:48',\n",
       " '5:01',\n",
       " '5:02',\n",
       " '5:04',\n",
       " '5:08',\n",
       " '5:16',\n",
       " '5:32',\n",
       " '6:01',\n",
       " '6:02',\n",
       " '6:04',\n",
       " '6:08',\n",
       " '6:16',\n",
       " '6:32',\n",
       " '7:00',\n",
       " '8:03',\n",
       " '8:05',\n",
       " '8:06',\n",
       " '8:09',\n",
       " '8:10',\n",
       " '8:12',\n",
       " '8:17',\n",
       " '8:18',\n",
       " '8:20',\n",
       " '8:24',\n",
       " '8:33',\n",
       " '8:34',\n",
       " '8:36',\n",
       " '8:40',\n",
       " '8:48',\n",
       " '9:01',\n",
       " '9:02',\n",
       " '9:04',\n",
       " '9:08',\n",
       " '9:16',\n",
       " '9:32',\n",
       " '10:01',\n",
       " '10:02',\n",
       " '10:04',\n",
       " '10:08',\n",
       " '10:16',\n",
       " '10:32',\n",
       " '11:00']"
      ]
     },
     "execution_count": 45,
     "metadata": {},
     "output_type": "execute_result"
    }
   ],
   "source": [
    "times(noLeds)"
   ]
  },
  {
   "cell_type": "markdown",
   "metadata": {},
   "source": [
    "Time Complexity: O(1), always the h*m regardless of n. "
   ]
  },
  {
   "cell_type": "code",
   "execution_count": null,
   "metadata": {
    "collapsed": true
   },
   "outputs": [],
   "source": []
  }
 ],
 "metadata": {
  "kernelspec": {
   "display_name": "Python 3",
   "language": "python",
   "name": "python3"
  },
  "language_info": {
   "codemirror_mode": {
    "name": "ipython",
    "version": 3
   },
   "file_extension": ".py",
   "mimetype": "text/x-python",
   "name": "python",
   "nbconvert_exporter": "python",
   "pygments_lexer": "ipython3",
   "version": "3.6.0"
  }
 },
 "nbformat": 4,
 "nbformat_minor": 2
}
