{
 "cells": [
  {
   "cell_type": "code",
   "execution_count": 1,
   "metadata": {
    "collapsed": true
   },
   "outputs": [],
   "source": [
    "nums1 = [1, 2]\n",
    "nums2 = [3, 4]"
   ]
  },
  {
   "cell_type": "code",
   "execution_count": 2,
   "metadata": {
    "collapsed": false
   },
   "outputs": [
    {
     "data": {
      "text/plain": [
       "[1, 2]"
      ]
     },
     "execution_count": 2,
     "metadata": {},
     "output_type": "execute_result"
    }
   ],
   "source": [
    "nums1"
   ]
  },
  {
   "cell_type": "code",
   "execution_count": 5,
   "metadata": {
    "collapsed": true
   },
   "outputs": [],
   "source": [
    "def median(nums1,nums2):\n",
    "    n = len(nums1)\n",
    "    m = len(nums2)\n",
    "    \n",
    "    if m > n:\n",
    "        nums1, nums2, m, n = nums2, nums1, n, m\n",
    "    \n",
    "   #Once we have divided arrays into two parts (upper and lower) \n",
    "   #we need the max(lower) + min(upper)\n",
    "    \n",
    "    i_min = 0\n",
    "    i_max = m\n",
    "    half_point = (m+n+1)/2\n",
    "    \n",
    "    while i_min < i_max:\n",
    "        \n",
    "        #to satisfy the claim that i + j = m - i + n - j \n",
    "        i = (i_min + i_max)/2\n",
    "        j = half_point - i\n",
    "        \n",
    "        if i< m and nums2[j-1] > nums1[i]:\n",
    "        #largest value in lower half of B is greater than smallest value in upper half of A\n",
    "        #increase the value of imin to increase the value of i\n",
    "        i_min++\n",
    "        \n",
    "        if i > 0 and nums2[j] < nums1[i-1] :\n",
    "        #smallest value in upper half of b is greater than smallest value in lower half of A\n",
    "        #decrease the value of imax to decrease the value of i\n",
    "        i_max--\n",
    "        \n",
    "        else:\n",
    "        # right values of imin and imax achieced\n",
    "        \n",
    "        #special cases\n",
    "        # i == 0 or j == 0\n",
    "        if i == 0: max_left = nums2[j-1] # nums1[i-1] does not exist\n",
    "        elif j == 0: max_left = nums1[i-1]\n",
    "        else: max_left = max(nums1[i-1],nums2[j-1])\n",
    "            \n",
    "        if (m + n) % 2 == 1:\n",
    "            return max_left\n",
    "        \n",
    "        # i == m or j == n\n",
    "        if i == m: min_right = nums2[j]\n",
    "        elif j == n: min_right = nums1[i]\n",
    "        else: min_right = min(nums1[i],nums2[j])\n",
    "        \n",
    "        \n",
    "        return (max_left +  min_right) / 2.0\n",
    "    \n",
    "    \n",
    "    \n",
    "    "
   ]
  },
  {
   "cell_type": "code",
   "execution_count": null,
   "metadata": {
    "collapsed": true
   },
   "outputs": [],
   "source": []
  }
 ],
 "metadata": {
  "kernelspec": {
   "display_name": "Python 3",
   "language": "python",
   "name": "python3"
  },
  "language_info": {
   "codemirror_mode": {
    "name": "ipython",
    "version": 3
   },
   "file_extension": ".py",
   "mimetype": "text/x-python",
   "name": "python",
   "nbconvert_exporter": "python",
   "pygments_lexer": "ipython3",
   "version": "3.6.0"
  }
 },
 "nbformat": 4,
 "nbformat_minor": 2
}
